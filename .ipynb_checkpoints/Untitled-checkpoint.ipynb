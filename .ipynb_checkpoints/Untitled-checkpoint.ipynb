{
 "cells": [
  {
   "cell_type": "code",
   "execution_count": 1,
   "id": "31d76d3d",
   "metadata": {},
   "outputs": [
    {
     "name": "stdout",
     "output_type": "stream",
     "text": [
      "Requirement already satisfied: spotipy in /Users/robinhwhwk/opt/anaconda3/lib/python3.9/site-packages (2.22.0)\n",
      "Requirement already satisfied: redis>=3.5.3 in /Users/robinhwhwk/opt/anaconda3/lib/python3.9/site-packages (from spotipy) (4.4.0)\n",
      "Requirement already satisfied: six>=1.15.0 in /Users/robinhwhwk/opt/anaconda3/lib/python3.9/site-packages (from spotipy) (1.16.0)\n",
      "Requirement already satisfied: urllib3>=1.26.0 in /Users/robinhwhwk/opt/anaconda3/lib/python3.9/site-packages (from spotipy) (1.26.12)\n",
      "Requirement already satisfied: requests>=2.25.0 in /Users/robinhwhwk/opt/anaconda3/lib/python3.9/site-packages (from spotipy) (2.28.1)\n",
      "Requirement already satisfied: async-timeout>=4.0.2 in /Users/robinhwhwk/opt/anaconda3/lib/python3.9/site-packages (from redis>=3.5.3->spotipy) (4.0.2)\n",
      "Requirement already satisfied: certifi>=2017.4.17 in /Users/robinhwhwk/opt/anaconda3/lib/python3.9/site-packages (from requests>=2.25.0->spotipy) (2022.9.24)\n",
      "Requirement already satisfied: charset-normalizer<3,>=2 in /Users/robinhwhwk/opt/anaconda3/lib/python3.9/site-packages (from requests>=2.25.0->spotipy) (2.0.4)\n",
      "Requirement already satisfied: idna<4,>=2.5 in /Users/robinhwhwk/opt/anaconda3/lib/python3.9/site-packages (from requests>=2.25.0->spotipy) (3.4)\n",
      "Note: you may need to restart the kernel to use updated packages.\n"
     ]
    }
   ],
   "source": [
    "pip install spotipy"
   ]
  },
  {
   "cell_type": "code",
   "execution_count": 6,
   "id": "aa0d63d0",
   "metadata": {},
   "outputs": [],
   "source": [
    "SPOTIPY_CLIENT_ID=\"07cb160ca31e4211a4e9dccff9254a8c\"\n",
    "SPOTIPY_CLIENT_SECRET=\"bc0841f84e9f4eb781bb0e9b665cdfc7\"\n",
    "SPOTIPY_REDIRECT_URI=\"http://127.0.0.1:8000\""
   ]
  },
  {
   "cell_type": "code",
   "execution_count": 15,
   "id": "af397684",
   "metadata": {},
   "outputs": [
    {
     "name": "stdout",
     "output_type": "stream",
     "text": [
      "colors - natsu\n"
     ]
    }
   ],
   "source": [
    "import spotipy\n",
    "import spotipy.util as util\n",
    "from spotipy.oauth2 import SpotifyOAuth\n",
    "import os\n",
    "import sys\n",
    "import googleapiclient.discovery\n",
    "import environ\n",
    "env = environ.Env()\n",
    "environ.Env.read_env()\n",
    "\n",
    "\n",
    "scope = \"user-library-read playlist-modify-private playlist-modify-public\"\n",
    "\n",
    "\n",
    "if len(sys.argv) > 1:\n",
    "    username = sys.argv[1]\n",
    "else:\n",
    "    print(\"Usage: %s username\" % (sys.argv[0],))\n",
    "    sys.exit()\n",
    "\n",
    "# token = util.prompt_for_user_token(username, scope)\n",
    "\n",
    "# if token:\n",
    "#     sp = spotipy.Spotify(auth=token)\n",
    "#     results = sp.current_user_saved_tracks()\n",
    "#     for item in results['items']:\n",
    "#         track = item['track']\n",
    "#         print(track['name'] + ' - ' + track['artists'][0]['name'])\n",
    "# else:\n",
    "#     print(\"Can't get token for\", username)"
   ]
  },
  {
   "cell_type": "code",
   "execution_count": null,
   "id": "f19cff68",
   "metadata": {},
   "outputs": [],
   "source": []
  }
 ],
 "metadata": {
  "kernelspec": {
   "display_name": "Python 3 (ipykernel)",
   "language": "python",
   "name": "python3"
  },
  "language_info": {
   "codemirror_mode": {
    "name": "ipython",
    "version": 3
   },
   "file_extension": ".py",
   "mimetype": "text/x-python",
   "name": "python",
   "nbconvert_exporter": "python",
   "pygments_lexer": "ipython3",
   "version": "3.9.15"
  }
 },
 "nbformat": 4,
 "nbformat_minor": 5
}
