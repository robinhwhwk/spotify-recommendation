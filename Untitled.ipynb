{
 "cells": [
  {
   "cell_type": "code",
   "execution_count": 1,
   "id": "ec45697b",
   "metadata": {},
   "outputs": [],
   "source": [
    "import requests"
   ]
  },
  {
   "cell_type": "code",
   "execution_count": 2,
   "id": "62de4ccc",
   "metadata": {},
   "outputs": [],
   "source": [
    "url = 'https://api.musixmatch.com/ws/1.1/matcher.lyrics.get'"
   ]
  },
  {
   "cell_type": "code",
   "execution_count": 3,
   "id": "479a0bd1",
   "metadata": {},
   "outputs": [],
   "source": [
    "key = '7b5d78844273764c53b203a5c23875fa'"
   ]
  },
  {
   "cell_type": "code",
   "execution_count": 4,
   "id": "3d34a573",
   "metadata": {},
   "outputs": [],
   "source": [
    "def get_lyrics(track, artist):\n",
    "    req = requests.get(url, params = {\n",
    "        \"apikey\": key,\n",
    "        \"q_track\": track,\n",
    "        \"q_artist\": artist,\n",
    "    })\n",
    "    results = req.json()\n",
    "    return results"
   ]
  },
  {
   "cell_type": "code",
   "execution_count": 5,
   "id": "7bae28d8",
   "metadata": {},
   "outputs": [
    {
     "name": "stdout",
     "output_type": "stream",
     "text": [
      "{'message': {'header': {'status_code': 200, 'execute_time': 0.089370965957642}, 'body': {'lyrics': {'lyrics_id': 20094830, 'explicit': 0, 'lyrics_body': '例えば 君の 顔に昔より\\nシワが 増えても それでも良いんだ\\n僕が ギターを 思うように 弾けなくなっても\\n心の歌は君で溢れているよ\\n高い声も 出せずに 思い通り歌えない\\nそれでも頷きながら一緒に歌ってくれるかな\\n割れんばかりの拍手も 響き渡る歓声もいらない\\n君だけ わかってよ わかってよ\\nDarling 夢が叶ったの\\nお似合いの言葉が見つからないよ\\nDarling 夢が叶ったの\\n愛してる\\n\\n...\\n\\n******* This Lyrics is NOT for Commercial use *******', 'script_tracking_url': 'https://tracking.musixmatch.com/t1.0/m_js/e_1/sn_0/l_20094830/su_0/rs_0/tr_3vUCAEM0sLuQxu2yO8VusbzJxOKUOZJIK2UlzGm9Us4rleqOn9iIgXjPuaCN_LEX3TedkwZ7oTeefjpAuKcv0es88zXIYHIz_3Mj-sH1B-3UWd4cW2opRf2jlORmV5-1MgUMc7ggKl_nUxbIo5qg5B61nz6F6-sloYyuBCbRCtqUNHLExYyr2H9PAr5RILPiNv2WIdA2ZcOdfDyVoHaBkKg1xwv6rdXHq3W2o8-UrulSVsPZHIMYHbeW1K1dmgMw29eydgtYrortIytJ80wnwibfBtN8gP4vIYMHfEn7cjM7GS3jpvQfs8Ht1XTb1oQDqsm6TKHgyrHFydalBzzJOwp46h-9i10MqsP6MvLWL5ACohq330vy1LhQO4CvtW6yCRnI-C1Vw_DtYqFnvWaMk0sN25dHTJAOJLTbHdOj/', 'pixel_tracking_url': 'https://tracking.musixmatch.com/t1.0/m_img/e_1/sn_0/l_20094830/su_0/rs_0/tr_3vUCAJP9-Rn7MYn5zbl7AirRSEOrnYBrWBGunHEgQTAMXF8W2QSqEnIKF7geWCDpdCR_y5wzpx1dkSLcwoNEXxdEV_fkQBxMR715GWjuxD6pIZoZp5D0v-kTF-A8fwpOcsM_wHddec9fL4wY84O80GWUdjN7avPE9Sx3Lt4jL9YZvYSqLRmS4eD4Eour0KTxjoaQDrBtud1-DLsQK4OqBRXCvVldCT9QM_m4_uMQ4XG9IPt1zCcVHdEeWNC6iUvQEE_9EChQ844hMj0k1j5D1-eH1tiMMizEGgBgtdirJvDknS3jK8feqvCJ3AGaNp20Yu4K7QvVUd4GcFUnA2qA9bJWViSoD7aP40f_TClpkOgqVekCurw2o1WEW-huZehQGs0rgG0vh0gW7htT7o-6oJTNy0Ge8ANEUHGsC2G1/', 'lyrics_copyright': 'Lyrics powered by www.musixmatch.com. This Lyrics is NOT for Commercial use and only 30% of the lyrics are returned.', 'updated_time': '2019-12-13T08:35:42Z'}}}}\n"
     ]
    }
   ],
   "source": [
    "print(get_lyrics('Kataomoi', 'Aimer'))"
   ]
  },
  {
   "cell_type": "code",
   "execution_count": 6,
   "id": "dc4cf52f",
   "metadata": {},
   "outputs": [],
   "source": [
    "lyrics = get_lyrics('Kataomoi', 'Aimer')"
   ]
  },
  {
   "cell_type": "code",
   "execution_count": 11,
   "id": "40b4cf88",
   "metadata": {},
   "outputs": [
    {
     "name": "stdout",
     "output_type": "stream",
     "text": [
      "例えば 君の 顔に昔より\n",
      "シワが 増えても それでも良いんだ\n",
      "僕が ギターを 思うように 弾けなくなっても\n",
      "心の歌は君で溢れているよ\n",
      "高い声も 出せずに 思い通り歌えない\n",
      "それでも頷きながら一緒に歌ってくれるかな\n",
      "割れんばかりの拍手も 響き渡る歓声もいらない\n",
      "君だけ わかってよ わかってよ\n",
      "Darling 夢が叶ったの\n",
      "お似合いの言葉が見つからないよ\n",
      "Darling 夢が叶ったの\n",
      "愛してる\n",
      "\n",
      "...\n",
      "\n",
      "******* This Lyrics is NOT for Commercial use *******\n"
     ]
    }
   ],
   "source": [
    "print(lyrics['message']['body']['lyrics']['lyrics_body'])"
   ]
  },
  {
   "cell_type": "code",
   "execution_count": null,
   "id": "a238a2fc",
   "metadata": {},
   "outputs": [],
   "source": []
  }
 ],
 "metadata": {
  "kernelspec": {
   "display_name": "Python 3.11.0 64-bit",
   "language": "python",
   "name": "python3"
  },
  "language_info": {
   "codemirror_mode": {
    "name": "ipython",
    "version": 3
   },
   "file_extension": ".py",
   "mimetype": "text/x-python",
   "name": "python",
   "nbconvert_exporter": "python",
   "pygments_lexer": "ipython3",
   "version": "3.11.0"
  },
  "vscode": {
   "interpreter": {
    "hash": "aee8b7b246df8f9039afb4144a1f6fd8d2ca17a180786b69acc140d282b71a49"
   }
  }
 },
 "nbformat": 4,
 "nbformat_minor": 5
}
