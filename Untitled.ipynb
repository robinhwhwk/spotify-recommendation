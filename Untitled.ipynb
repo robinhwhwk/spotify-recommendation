{
 "cells": [
  {
   "cell_type": "code",
   "execution_count": 1,
   "id": "31d76d3d",
   "metadata": {},
   "outputs": [
    {
     "name": "stdout",
     "output_type": "stream",
     "text": [
      "Requirement already satisfied: spotipy in /Library/Frameworks/Python.framework/Versions/3.11/lib/python3.11/site-packages (2.22.0)\n",
      "Requirement already satisfied: redis>=3.5.3 in /Library/Frameworks/Python.framework/Versions/3.11/lib/python3.11/site-packages (from spotipy) (4.4.0)\n",
      "Requirement already satisfied: requests>=2.25.0 in /Library/Frameworks/Python.framework/Versions/3.11/lib/python3.11/site-packages (from spotipy) (2.28.1)\n",
      "Requirement already satisfied: six>=1.15.0 in /Library/Frameworks/Python.framework/Versions/3.11/lib/python3.11/site-packages (from spotipy) (1.16.0)\n",
      "Requirement already satisfied: urllib3>=1.26.0 in /Library/Frameworks/Python.framework/Versions/3.11/lib/python3.11/site-packages (from spotipy) (1.26.13)\n",
      "Requirement already satisfied: async-timeout>=4.0.2 in /Library/Frameworks/Python.framework/Versions/3.11/lib/python3.11/site-packages (from redis>=3.5.3->spotipy) (4.0.2)\n",
      "Requirement already satisfied: charset-normalizer<3,>=2 in /Library/Frameworks/Python.framework/Versions/3.11/lib/python3.11/site-packages (from requests>=2.25.0->spotipy) (2.1.1)\n",
      "Requirement already satisfied: idna<4,>=2.5 in /Library/Frameworks/Python.framework/Versions/3.11/lib/python3.11/site-packages (from requests>=2.25.0->spotipy) (3.4)\n",
      "Requirement already satisfied: certifi>=2017.4.17 in /Library/Frameworks/Python.framework/Versions/3.11/lib/python3.11/site-packages (from requests>=2.25.0->spotipy) (2022.9.24)\n",
      "Note: you may need to restart the kernel to use updated packages.\n"
     ]
    }
   ],
   "source": [
    "pip install spotipy"
   ]
  },
  {
   "cell_type": "code",
   "execution_count": 2,
   "id": "aa0d63d0",
   "metadata": {},
   "outputs": [],
   "source": [
    "SPOTIPY_CLIENT_ID=\"07cb160ca31e4211a4e9dccff9254a8c\"\n",
    "SPOTIPY_CLIENT_SECRET=\"bc0841f84e9f4eb781bb0e9b665cdfc7\"\n",
    "SPOTIPY_REDIRECT_URI=\"http://127.0.0.1:8000\""
   ]
  },
  {
   "cell_type": "code",
   "execution_count": 28,
   "id": "af397684",
   "metadata": {},
   "outputs": [
    {
     "name": "stderr",
     "output_type": "stream",
     "text": [
      "HTTP Error for POST to https://api.spotify.com/v1/users/-f/playlists with Params: {} returned 403 due to You cannot create a playlist for another user.\n"
     ]
    },
    {
     "ename": "SpotifyException",
     "evalue": "http status: 403, code:-1 - https://api.spotify.com/v1/users/-f/playlists:\n You cannot create a playlist for another user., reason: None",
     "output_type": "error",
     "traceback": [
      "\u001b[0;31m---------------------------------------------------------------------------\u001b[0m",
      "\u001b[0;31mHTTPError\u001b[0m                                 Traceback (most recent call last)",
      "File \u001b[0;32m/Library/Frameworks/Python.framework/Versions/3.11/lib/python3.11/site-packages/spotipy/client.py:245\u001b[0m, in \u001b[0;36mSpotify._internal_call\u001b[0;34m(self, method, url, payload, params)\u001b[0m\n\u001b[1;32m    240\u001b[0m response \u001b[39m=\u001b[39m \u001b[39mself\u001b[39m\u001b[39m.\u001b[39m_session\u001b[39m.\u001b[39mrequest(\n\u001b[1;32m    241\u001b[0m     method, url, headers\u001b[39m=\u001b[39mheaders, proxies\u001b[39m=\u001b[39m\u001b[39mself\u001b[39m\u001b[39m.\u001b[39mproxies,\n\u001b[1;32m    242\u001b[0m     timeout\u001b[39m=\u001b[39m\u001b[39mself\u001b[39m\u001b[39m.\u001b[39mrequests_timeout, \u001b[39m*\u001b[39m\u001b[39m*\u001b[39margs\n\u001b[1;32m    243\u001b[0m )\n\u001b[0;32m--> 245\u001b[0m response\u001b[39m.\u001b[39;49mraise_for_status()\n\u001b[1;32m    246\u001b[0m results \u001b[39m=\u001b[39m response\u001b[39m.\u001b[39mjson()\n",
      "File \u001b[0;32m/Library/Frameworks/Python.framework/Versions/3.11/lib/python3.11/site-packages/requests/models.py:1021\u001b[0m, in \u001b[0;36mResponse.raise_for_status\u001b[0;34m(self)\u001b[0m\n\u001b[1;32m   1020\u001b[0m \u001b[39mif\u001b[39;00m http_error_msg:\n\u001b[0;32m-> 1021\u001b[0m     \u001b[39mraise\u001b[39;00m HTTPError(http_error_msg, response\u001b[39m=\u001b[39m\u001b[39mself\u001b[39m)\n",
      "\u001b[0;31mHTTPError\u001b[0m: 403 Client Error: Forbidden for url: https://api.spotify.com/v1/users/-f/playlists",
      "\nDuring handling of the above exception, another exception occurred:\n",
      "\u001b[0;31mSpotifyException\u001b[0m                          Traceback (most recent call last)",
      "Cell \u001b[0;32mIn[28], line 30\u001b[0m\n\u001b[1;32m     28\u001b[0m \u001b[39mif\u001b[39;00m token:\n\u001b[1;32m     29\u001b[0m     sp \u001b[39m=\u001b[39m spotipy\u001b[39m.\u001b[39mSpotify(auth\u001b[39m=\u001b[39mtoken)\n\u001b[0;32m---> 30\u001b[0m     sp\u001b[39m.\u001b[39;49muser_playlist_create(username, \u001b[39m'\u001b[39;49m\u001b[39mmy_playlist\u001b[39;49m\u001b[39m'\u001b[39;49m)\n\u001b[1;32m     31\u001b[0m     results \u001b[39m=\u001b[39m sp\u001b[39m.\u001b[39muser_playlist_add_tracks()\n\u001b[1;32m     32\u001b[0m     \u001b[39mfor\u001b[39;00m item \u001b[39min\u001b[39;00m results[\u001b[39m'\u001b[39m\u001b[39mitems\u001b[39m\u001b[39m'\u001b[39m]:\n",
      "File \u001b[0;32m/Library/Frameworks/Python.framework/Versions/3.11/lib/python3.11/site-packages/spotipy/client.py:792\u001b[0m, in \u001b[0;36mSpotify.user_playlist_create\u001b[0;34m(self, user, name, public, collaborative, description)\u001b[0m\n\u001b[1;32m    776\u001b[0m \u001b[39m\"\"\" Creates a playlist for a user\u001b[39;00m\n\u001b[1;32m    777\u001b[0m \n\u001b[1;32m    778\u001b[0m \u001b[39m    Parameters:\u001b[39;00m\n\u001b[0;32m   (...)\u001b[0m\n\u001b[1;32m    783\u001b[0m \u001b[39m        - description - the description of the playlist\u001b[39;00m\n\u001b[1;32m    784\u001b[0m \u001b[39m\"\"\"\u001b[39;00m\n\u001b[1;32m    785\u001b[0m data \u001b[39m=\u001b[39m {\n\u001b[1;32m    786\u001b[0m     \u001b[39m\"\u001b[39m\u001b[39mname\u001b[39m\u001b[39m\"\u001b[39m: name,\n\u001b[1;32m    787\u001b[0m     \u001b[39m\"\u001b[39m\u001b[39mpublic\u001b[39m\u001b[39m\"\u001b[39m: public,\n\u001b[1;32m    788\u001b[0m     \u001b[39m\"\u001b[39m\u001b[39mcollaborative\u001b[39m\u001b[39m\"\u001b[39m: collaborative,\n\u001b[1;32m    789\u001b[0m     \u001b[39m\"\u001b[39m\u001b[39mdescription\u001b[39m\u001b[39m\"\u001b[39m: description\n\u001b[1;32m    790\u001b[0m }\n\u001b[0;32m--> 792\u001b[0m \u001b[39mreturn\u001b[39;00m \u001b[39mself\u001b[39;49m\u001b[39m.\u001b[39;49m_post(\u001b[39m\"\u001b[39;49m\u001b[39musers/\u001b[39;49m\u001b[39m%s\u001b[39;49;00m\u001b[39m/playlists\u001b[39;49m\u001b[39m\"\u001b[39;49m \u001b[39m%\u001b[39;49m (user,), payload\u001b[39m=\u001b[39;49mdata)\n",
      "File \u001b[0;32m/Library/Frameworks/Python.framework/Versions/3.11/lib/python3.11/site-packages/spotipy/client.py:302\u001b[0m, in \u001b[0;36mSpotify._post\u001b[0;34m(self, url, args, payload, **kwargs)\u001b[0m\n\u001b[1;32m    300\u001b[0m \u001b[39mif\u001b[39;00m args:\n\u001b[1;32m    301\u001b[0m     kwargs\u001b[39m.\u001b[39mupdate(args)\n\u001b[0;32m--> 302\u001b[0m \u001b[39mreturn\u001b[39;00m \u001b[39mself\u001b[39;49m\u001b[39m.\u001b[39;49m_internal_call(\u001b[39m\"\u001b[39;49m\u001b[39mPOST\u001b[39;49m\u001b[39m\"\u001b[39;49m, url, payload, kwargs)\n",
      "File \u001b[0;32m/Library/Frameworks/Python.framework/Versions/3.11/lib/python3.11/site-packages/spotipy/client.py:267\u001b[0m, in \u001b[0;36mSpotify._internal_call\u001b[0;34m(self, method, url, payload, params)\u001b[0m\n\u001b[1;32m    260\u001b[0m         reason \u001b[39m=\u001b[39m \u001b[39mNone\u001b[39;00m\n\u001b[1;32m    262\u001b[0m     logger\u001b[39m.\u001b[39merror(\n\u001b[1;32m    263\u001b[0m         \u001b[39m'\u001b[39m\u001b[39mHTTP Error for \u001b[39m\u001b[39m%s\u001b[39;00m\u001b[39m to \u001b[39m\u001b[39m%s\u001b[39;00m\u001b[39m with Params: \u001b[39m\u001b[39m%s\u001b[39;00m\u001b[39m returned \u001b[39m\u001b[39m%s\u001b[39;00m\u001b[39m due to \u001b[39m\u001b[39m%s\u001b[39;00m\u001b[39m'\u001b[39m,\n\u001b[1;32m    264\u001b[0m         method, url, args\u001b[39m.\u001b[39mget(\u001b[39m\"\u001b[39m\u001b[39mparams\u001b[39m\u001b[39m\"\u001b[39m), response\u001b[39m.\u001b[39mstatus_code, msg\n\u001b[1;32m    265\u001b[0m     )\n\u001b[0;32m--> 267\u001b[0m     \u001b[39mraise\u001b[39;00m SpotifyException(\n\u001b[1;32m    268\u001b[0m         response\u001b[39m.\u001b[39mstatus_code,\n\u001b[1;32m    269\u001b[0m         \u001b[39m-\u001b[39m\u001b[39m1\u001b[39m,\n\u001b[1;32m    270\u001b[0m         \u001b[39m\"\u001b[39m\u001b[39m%s\u001b[39;00m\u001b[39m:\u001b[39m\u001b[39m\\n\u001b[39;00m\u001b[39m \u001b[39m\u001b[39m%s\u001b[39;00m\u001b[39m\"\u001b[39m \u001b[39m%\u001b[39m (response\u001b[39m.\u001b[39murl, msg),\n\u001b[1;32m    271\u001b[0m         reason\u001b[39m=\u001b[39mreason,\n\u001b[1;32m    272\u001b[0m         headers\u001b[39m=\u001b[39mresponse\u001b[39m.\u001b[39mheaders,\n\u001b[1;32m    273\u001b[0m     )\n\u001b[1;32m    274\u001b[0m \u001b[39mexcept\u001b[39;00m requests\u001b[39m.\u001b[39mexceptions\u001b[39m.\u001b[39mRetryError \u001b[39mas\u001b[39;00m retry_error:\n\u001b[1;32m    275\u001b[0m     request \u001b[39m=\u001b[39m retry_error\u001b[39m.\u001b[39mrequest\n",
      "\u001b[0;31mSpotifyException\u001b[0m: http status: 403, code:-1 - https://api.spotify.com/v1/users/-f/playlists:\n You cannot create a playlist for another user., reason: None"
     ]
    }
   ],
   "source": [
    "import spotipy\n",
    "import spotipy.util as util\n",
    "from spotipy.oauth2 import SpotifyOAuth\n",
    "import os\n",
    "import sys\n",
    "import environ\n",
    "env = environ.Env()\n",
    "environ.Env.read_env()\n",
    "\n",
    "\n",
    "scope = \"user-library-read playlist-modify-private playlist-modify-public\"\n",
    "\n",
    "\n",
    "if len(sys.argv) > 1:\n",
    "    username = sys.argv[1]\n",
    "else:\n",
    "    print(\"Usage: %s username\" % (sys.argv[0],))\n",
    "    sys.exit()\n",
    "\n",
    "token = util.prompt_for_user_token(username, scope, client_id=\"07cb160ca31e4211a4e9dccff9254a8c\",\n",
    "                                   client_secret=\"bc0841f84e9f4eb781bb0e9b665cdfc7\",redirect_uri=\"http://127.0.0.1:8000\")\n",
    "\n",
    "if token:\n",
    "    sp = spotipy.Spotify(auth=token)\n",
    "    results = sp.current_user_saved_tracks()\n",
    "    for item in results['items']:\n",
    "        track = item['track']\n",
    "        print(track['name'] + ' - ' + track['artists'][0]['name'])\n",
    "else:\n",
    "    print(\"Can't get token for\", username)"
   ]
  },
  {
   "cell_type": "code",
   "execution_count": null,
   "id": "f19cff68",
   "metadata": {},
   "outputs": [],
   "source": []
  }
 ],
 "metadata": {
  "kernelspec": {
   "display_name": "Python 3.11.0 64-bit",
   "language": "python",
   "name": "python3"
  },
  "language_info": {
   "codemirror_mode": {
    "name": "ipython",
    "version": 3
   },
   "file_extension": ".py",
   "mimetype": "text/x-python",
   "name": "python",
   "nbconvert_exporter": "python",
   "pygments_lexer": "ipython3",
   "version": "3.11.0"
  },
  "vscode": {
   "interpreter": {
    "hash": "aee8b7b246df8f9039afb4144a1f6fd8d2ca17a180786b69acc140d282b71a49"
   }
  }
 },
 "nbformat": 4,
 "nbformat_minor": 5
}
